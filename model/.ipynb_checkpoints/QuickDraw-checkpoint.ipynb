{
 "cells": [
  {
   "cell_type": "code",
   "execution_count": 1,
   "metadata": {},
   "outputs": [
    {
     "name": "stdout",
     "output_type": "stream",
     "text": [
      "(28, 28, 3)\n",
      "[[  0   0   0   0   0   0   0   0   0   0   0   0   0   0   0   0   0   0\n",
      "    0   0   0   0   0   0   0   0   0   0]\n",
      " [  0   0   0   0   0   0   0   0   0   0   0   0   0   0   0   0   0   0\n",
      "    0   0   0   0   0   0   0   0   0   0]\n",
      " [  0   0   0   0   0   0   0   0   0   0   0   0   0   0   0   0   0   0\n",
      "    0   0   0   0   0   0   0   0   0   0]\n",
      " [  0   0   0   0   0   0   0   0   0   0   0   0   1  20   1   0   0   0\n",
      "    0   0   0   0   0   0   0   0   0   0]\n",
      " [  0   0   0   0   0   0   0   0   0   0   0   0   9 155 121  85  40   1\n",
      "    0   0   0   0   0   0   0   0   0   0]\n",
      " [  0   0   0   0   0   0   0   0   0   0   0   0   0 136 207 169 196 131\n",
      "   11   0   0   0   0   0   0   0   0   0]\n",
      " [  0   0   0   0   0   0   0   0   0   0   0   0   0  94 133   0  68 207\n",
      "   42   0   0   0   0   0   0   0   0   0]\n",
      " [  0   0   0   0   0   0   0   0   0   0   0   0   0  72 156  52 173 145\n",
      "    8   0   0   0   0   0   0   0   0   0]\n",
      " [  0   0   0   0   0   0   0   0   0   0   0   0   0  35 208 210 140  16\n",
      "    0   0   0   0   0   0   0   0   0   0]\n",
      " [  0   0   0   0   0   0   0   0   0   0   0   0   0   7 171  81   0   0\n",
      "    0   0   0   0   0   0   0   0   0   0]\n",
      " [  0   0   0   0   0   0   0   0   0   0   0   0   0   0 150  86  25  36\n",
      "   31  16  18   9   0   0   0   0   0   0]\n",
      " [  0   0   0   0   0   0   0   0   0   0   0   3  56 146 213 225 222 229\n",
      "  220 185 186 175  52   0   0   0   0   0]\n",
      " [  0   0   0   0   0   0   0   0   2 102 132 169 220 176 163 218 242 239\n",
      "  116  52  47 120 185  27   0   0   0   0]\n",
      " [  0   0   0   0   0   0   0   0  14 201 255 255 201  44 102 219 199  82\n",
      "    0   0   0   1 151  98   0   0   0   0]\n",
      " [  0   0   0   0   0   0   0   0  23 188 123 153 194 195 201 188  60   0\n",
      "    0   0   0   0 105 139   0   0   0   0]\n",
      " [  0   0   0   0   0   0   0   0  38 182  19   2  15  34  36  12   0   0\n",
      "    0   0   0   0 121 117   0   0   0   0]\n",
      " [  0   0   0   0   0   0   0   0  44 176  14   0   0   0   0   0   0   0\n",
      "    0   0   0   4 161  82   0   0   0   0]\n",
      " [  0   0   0   0   0   0   0   0  42 173  13   0   0   0   0   0   0   0\n",
      "    0   0   0  85 175  21   0   0   0   0]\n",
      " [  0   0   0   0   0   0   0   0  44 187  22   0   0   0   0   0   0   0\n",
      "    0   0  67 187  59   0   0   0   0   0]\n",
      " [  0   0   0   0   0   0   0   0  14 163 138  12   0   0   0   0   0   1\n",
      "   42 131 192  76   0   0   0   0   0   0]\n",
      " [  0   0   0   0   0   0   0   0   0  26 170 180 111  63  39  49  98 154\n",
      "  190 140  40   0   0   0   0   0   0   0]\n",
      " [  0   0   0   0   0   0   0   0   0   0  17  91 143 174 178 179 151 102\n",
      "   34   0   0   0   0   0   0   0   0   0]\n",
      " [  0   0   0   0   0   0   0   0   0   0   0   0   0   9  18  15   1   0\n",
      "    0   0   0   0   0   0   0   0   0   0]\n",
      " [  0   0   0   0   0   0   0   0   0   0   0   0   0   0   0   0   0   0\n",
      "    0   0   0   0   0   0   0   0   0   0]\n",
      " [  0   0   0   0   0   0   0   0   0   0   0   0   0   0   0   0   0   0\n",
      "    0   0   0   0   0   0   0   0   0   0]\n",
      " [  0   0   0   0   0   0   0   0   0   0   0   0   0   0   0   0   0   0\n",
      "    0   0   0   0   0   0   0   0   0   0]\n",
      " [  0   0   0   0   0   0   0   0   0   0   0   0   0   0   0   0   0   0\n",
      "    0   0   0   0   0   0   0   0   0   0]\n",
      " [  0   0   0   0   0   0   0   0   0   0   0   0   0   0   0   0   0   0\n",
      "    0   0   0   0   0   0   0   0   0   0]]\n"
     ]
    },
    {
     "data": {
      "image/png": "[encoded data removed]",
      "text/plain": [
       "<matplotlib.figure.Figure at 0x7fb9c0037978>"
      ]
     },
     "metadata": {},
     "output_type": "display_data"
    }
   ],
   "source": [
    "import numpy as np\n",
    "import cv2\n",
    "%matplotlib inline\n",
    "import matplotlib.pyplot as plt\n",
    "import torch\n",
    "import torch.nn as nn\n",
    "import torch.nn.functional as F\n",
    "import torchvision.transforms as transforms\n",
    "img = cv2.imread('/home/QuickDraw/image/apple28.png')\n",
    "img = cv2.bitwise_not(img)\n",
    "print(img.shape)\n",
    "#np.set_printoptions(threshold=np.inf)\n",
    "#newimg = img.reshape(-1)\n",
    "#print(newimg)\n",
    "gray = cv2.cvtColor(img, cv2.COLOR_BGR2GRAY)\n",
    "print(gray)\n",
    "#newimg = newimg.reshape(28,28)\n",
    "plt.imshow(gray,cmap=\"gray\")\n",
    "plt.show()"
   ]
  },
  {
   "cell_type": "code",
   "execution_count": 2,
   "metadata": {},
   "outputs": [
    {
     "name": "stdout",
     "output_type": "stream",
     "text": [
      "tensor([[3.6242, 4.0225, 0.0000, 0.0000]], device='cuda:0')\n",
      "[1]\n"
     ]
    }
   ],
   "source": [
    "class AlexNet(nn.Module):\n",
    "\n",
    "    def __init__(self, num_classes):\n",
    "        super(AlexNet, self).__init__()\n",
    "        self.conv1 = nn.Conv2d(1, 32, 3, padding=1)\n",
    "        self.conv2 = nn.Conv2d(32, 64, 3, padding=1)\n",
    " \n",
    "        self.dropout1 = nn.Dropout2d(0.25)\n",
    "        self.dropout2 = nn.Dropout2d(0.5)\n",
    " \n",
    "        self.fc1 = nn.Linear(64*14*14, 512)\n",
    "        self.fc2 = nn.Linear(512, num_classes)\n",
    " \n",
    "    \n",
    "\n",
    "    def forward(self, x):\n",
    "        x = F.relu(self.conv1(x))\n",
    "        x = F.relu(self.conv2(x))\n",
    "        x = F.max_pool2d(x, (2, 2))\n",
    "        x = self.dropout1(x)\n",
    " \n",
    "        x = x.view(-1, 64*14*14)\n",
    " \n",
    "        x = F.relu(self.fc1(x))\n",
    "        x = self.dropout2(x)\n",
    "        return F.relu(self.fc2(x))\n",
    "gray = torch.from_numpy(gray/255)\n",
    "gray = gray.view(-1,1, 28, 28)\n",
    "gray = gray.float()\n",
    "# モデル定義\n",
    "# パラメータの読み込み\n",
    "param = torch.load('quickdrawsucces.model')\n",
    "device = 'cuda' if torch.cuda.is_available() else 'cpu'\n",
    "gray = gray.to(device)\n",
    "#print(device)\n",
    "#device = 'cpu'\n",
    "net = AlexNet(4).to(device)\n",
    "net.load_state_dict(param)\n",
    "# 評価モードにする\n",
    "net = net.eval()\n",
    "with torch.no_grad():\n",
    "    output = net(gray)\n",
    "    print(output)\n",
    "    pred = [int(l.argmax()) for l in output]\n",
    "    print(pred)"
   ]
  },
  {
   "cell_type": "code",
   "execution_count": 3,
   "metadata": {},
   "outputs": [
    {
     "name": "stdout",
     "output_type": "stream",
     "text": [
      "(28, 28, 3)\n"
     ]
    },
    {
     "data": {
      "image/png": "[encoded data removed]",
      "text/plain": [
       "<matplotlib.figure.Figure at 0x7fb9c02e51d0>"
      ]
     },
     "metadata": {},
     "output_type": "display_data"
    },
    {
     "name": "stdout",
     "output_type": "stream",
     "text": [
      "tensor([[3.9122, 4.1371, 0.0000, 0.0000]], device='cuda:0')\n",
      "[1]\n"
     ]
    }
   ],
   "source": [
    "img = cv2.imread('/home/QuickDraw/image/cup.png')\n",
    "img = cv2.resize(img, dsize=(28, 28))\n",
    "img = cv2.bitwise_not(img)\n",
    "print(img.shape)\n",
    "gray = cv2.cvtColor(img, cv2.COLOR_BGR2GRAY)\n",
    "plt.imshow(gray,cmap=\"gray\")\n",
    "plt.show()\n",
    "gray = torch.from_numpy(gray/255)\n",
    "gray = gray.view(-1,1, 28, 28)\n",
    "gray = gray.float()\n",
    "\n",
    "gray = gray.to(device)\n",
    "with torch.no_grad():\n",
    "    output = net(gray)\n",
    "    print(output)\n",
    "    pred = [int(l.argmax()) for l in output]\n",
    "    print(pred)\n"
   ]
  }
 ],
 "metadata": {
  "kernelspec": {
   "display_name": "Python 3",
   "language": "python",
   "name": "python3"
  },
  "language_info": {
   "codemirror_mode": {
    "name": "ipython",
    "version": 3
   },
   "file_extension": ".py",
   "mimetype": "text/x-python",
   "name": "python",
   "nbconvert_exporter": "python",
   "pygments_lexer": "ipython3",
   "version": "3.6.4"
  }
 },
 "nbformat": 4,
 "nbformat_minor": 2
}
