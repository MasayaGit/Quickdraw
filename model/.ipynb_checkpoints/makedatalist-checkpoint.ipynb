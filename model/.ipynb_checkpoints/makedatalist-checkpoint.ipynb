{
 "cells": [
  {
   "cell_type": "code",
   "execution_count": 1,
   "metadata": {},
   "outputs": [
    {
     "data": {
      "image/png": "[encoded data removed]",
      "text/plain": [
       "<matplotlib.figure.Figure at 0x7fc56436a470>"
      ]
     },
     "metadata": {},
     "output_type": "display_data"
    },
    {
     "name": "stdout",
     "output_type": "stream",
     "text": [
      "300000\n"
     ]
    }
   ],
   "source": [
    "import numpy as np\n",
    "import json\n",
    "\n",
    "\n",
    "def appendData(argumentFileName,makedataXList,makedataYList,number,countNumber):\n",
    "    file = '/home/QuickDraw/NumpyBitdata/' + argumentFileName\n",
    "    numpyDataList = np.load(file)\n",
    "    count = 0\n",
    "    for numpyData in numpyDataList:\n",
    "        #255で割って範囲を０−１にする\n",
    "        if count == countNumber:\n",
    "            break\n",
    "        makedataXList.append(numpyData/255)\n",
    "        makedataYList.append(number)\n",
    "        count += 1\n",
    "    return \n",
    "\n",
    "\n",
    "def makeDataList():\n",
    "    makedataXList = []\n",
    "    makedataYList = []\n",
    "    appendData('airplane.npy',makedataXList,makedataYList,0,60000)\n",
    "    appendData('apple.npy',makedataXList,makedataYList,1,60000)\n",
    "    appendData('cat.npy',makedataXList,makedataYList,2,60000)\n",
    "    appendData('flower.npy',makedataXList,makedataYList,3,60000)\n",
    "    appendData('bus.npy',makedataXList,makedataYList,4,60000)\n",
    "    return  makedataXList,makedataYList\n",
    "\n",
    "#テスト\n",
    "#listx = []\n",
    "#listy = []\n",
    "#appendData('cat.npy',listx,listy,0)\n",
    "#print(listx[10])\n",
    "import matplotlib.pyplot as plt\n",
    "%matplotlib inline\n",
    "\n",
    "listx,listy = makeDataList()\n",
    "plt.hist(listy)\n",
    "plt.show()\n",
    "print(len(listy))"
   ]
  }
 ],
 "metadata": {
  "kernelspec": {
   "display_name": "Python 3",
   "language": "python",
   "name": "python3"
  },
  "language_info": {
   "codemirror_mode": {
    "name": "ipython",
    "version": 3
   },
   "file_extension": ".py",
   "mimetype": "text/x-python",
   "name": "python",
   "nbconvert_exporter": "python",
   "pygments_lexer": "ipython3",
   "version": "3.6.4"
  }
 },
 "nbformat": 4,
 "nbformat_minor": 2
}
